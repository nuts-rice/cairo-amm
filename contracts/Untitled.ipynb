{
 "cells": [
  {
   "cell_type": "code",
   "execution_count": 5,
   "id": "4c40f7a9",
   "metadata": {},
   "outputs": [],
   "source": [
    "const MAX_BALANCE  = 2 ** 64 - 1"
   ]
  },
  {
   "cell_type": "code",
   "execution_count": 6,
   "id": "c2870722",
   "metadata": {},
   "outputs": [],
   "source": [
    "struct AmmState:\n",
    "       member account_dict_start : DictAccess*\n",
    "       member account_dict_end : DictAccess*\n",
    "       member token_a_balance : felt\n",
    "       member token_b_balance : felt\n",
    "end"
   ]
  },
  {
   "cell_type": "code",
   "execution_count": null,
   "id": "cf8fcc93",
   "metadata": {},
   "outputs": [
    {
     "name": "stdout",
     "output_type": "stream",
     "text": [
      "/home/squid-kid/.local/lib/python3.8/site-packages/starkware/cairo/common/dict_access.cairo:1:8: Redefinition of 'starkware.cairo.common.dict_access.DictAccess'.\n",
      "struct DictAccess:\n",
      "       ^********^"
     ]
    }
   ],
   "source": [
    "from starkware.cairo.common.dict import dict_read, dict_write\n",
    "from starkware.cairo.common.math import assert_nn_le\n",
    "from starkware.cairo.common.registers import get_fp_and_pc\n",
    "\n",
    "func modify_account{range_check_ptr}(\n",
    "     state : AmmState, account_id, diff_a, diff_b) -> (\n",
    "     state : AmmState, key):\n",
    "\n",
    "    alloc_locals\n",
    "\n",
    "    #define reference to state.account_dict_end so that we have implicit argument to the dict functions\n",
    "    let account_dict_end = state.account_dict_end\n",
    "\n",
    "    #retrieve the pointer to current state of the account\n",
    "    let (local old_account : Account*) = dict_read{\n",
    "        dict_ptr=account_dict_end}(key=account_id)\n",
    "\n",
    "    tempvar new_token_a_balance = (\n",
    "        old_account.token_a_balance + diff_a)\n",
    "    tempvar new_token_b_balance = (\n",
    "        old_account.token_b_balance + diff_b)\n",
    "\n",
    "\n",
    "    assert_nn_le(new_token_a_balance, MAX_BALANCE)\n",
    "    assert_nn_le(new_token_b_balance, MAX_BALANCE)\n",
    "\n",
    "    local new_account : Account\n",
    "    assert new_account.public_key = old_account.public_key\n",
    "    assert new_account.token_a_balance = new_token_a_balance\n",
    "    assert new_account.token_b_balance = new_token_b_balance\n",
    "\n",
    "    #perform update\n",
    "    let (__fp__, _) = get_fp_and_pc()\n",
    "    dict_write{dict_ptr=account_dict}(key=account_id, new_value=cast(&new_account, felt))\n",
    "    \n",
    "    #construct, return state\n",
    "    local new_sate: AmmState\n",
    "    assert new_state.account_dict_start = (state.account_dict_start)\n",
    "    assert new_state.account_dict_end = account_dict_end\n",
    "    assert new_state.token_a_balance = state.token_a_balance\n",
    "    assert new_state.token_b_balance = state.token_b_balance\n",
    "    \n",
    "    return (state=new_state, key=old_account.public_key)\n",
    "end"
   ]
  },
  {
   "cell_type": "code",
   "execution_count": null,
   "id": "934060d1",
   "metadata": {},
   "outputs": [],
   "source": []
  }
 ],
 "metadata": {
  "kernelspec": {
   "display_name": "Cairo",
   "language": "text",
   "name": "cairo"
  },
  "language_info": {
   "file_extension": ".cairo",
   "mimetype": "text/plain",
   "name": "Cairo"
  }
 },
 "nbformat": 4,
 "nbformat_minor": 5
}
